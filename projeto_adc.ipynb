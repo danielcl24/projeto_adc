{
 "cells": [
  {
   "cell_type": "markdown",
   "metadata": {},
   "source": [
    "# Projeto ADC"
   ]
  },
  {
   "cell_type": "markdown",
   "metadata": {},
   "source": [
    "##### Imports"
   ]
  },
  {
   "cell_type": "code",
   "execution_count": null,
   "metadata": {},
   "outputs": [],
   "source": [
    "import networkx as nx\n",
    "from collections import defaultdict\n",
    "import pandas as pd\n",
    "import matplotlib.pyplot as plt"
   ]
  },
  {
   "cell_type": "markdown",
   "metadata": {},
   "source": [
    "#### Function to load the graph"
   ]
  },
  {
   "cell_type": "code",
   "execution_count": 2,
   "metadata": {},
   "outputs": [],
   "source": [
    "def load_graph_from_edgelist(filepath):\n",
    "    G = nx.Graph()\n",
    "    \n",
    "    with open(filepath, 'r') as file:\n",
    "        for line in file:\n",
    "            if line.startswith('#'):\n",
    "                continue\n",
    "            \n",
    "            try:\n",
    "                parts = list(map(int, line.strip().split()))\n",
    "                \n",
    "                if len(parts) > 1:\n",
    "                    for to_node in parts[1:]:\n",
    "                        G.add_edge(parts[0], to_node)\n",
    "            except ValueError:\n",
    "                continue\n",
    "    \n",
    "    return G"
   ]
  },
  {
   "cell_type": "markdown",
   "metadata": {},
   "source": [
    "#### Function to load the communities"
   ]
  },
  {
   "cell_type": "code",
   "execution_count": 3,
   "metadata": {},
   "outputs": [],
   "source": [
    "def load_communities(filepath):\n",
    "    communities = defaultdict(list)\n",
    "    \n",
    "    with open(filepath, 'r') as file:\n",
    "        for line in file:\n",
    "            if line.startswith('#'):\n",
    "                continue\n",
    "            \n",
    "            try:\n",
    "                parts = list(map(int, line.strip().split()))\n",
    "                \n",
    "                if len(parts) > 1:\n",
    "                    community_id = parts[0]\n",
    "                    nodes = parts[1:]\n",
    "                    \n",
    "                    for node in nodes:\n",
    "                        communities[node].append(community_id)\n",
    "            except ValueError:\n",
    "                continue\n",
    "    \n",
    "    return communities"
   ]
  },
  {
   "cell_type": "code",
   "execution_count": 4,
   "metadata": {},
   "outputs": [
    {
     "name": "stdout",
     "output_type": "stream",
     "text": [
      "Number of nodes: 1134890\n",
      "Number of edges: 2987624\n",
      "Number of nodes with community info: 48907\n"
     ]
    }
   ],
   "source": [
    "# Paths to your files\n",
    "graph_filepath = 'com-youtube.ungraph.txt'\n",
    "community_filepath = 'com-youtube.all.cmty.txt'\n",
    "\n",
    "# Load graph\n",
    "# Load graph\n",
    "G = load_graph_from_edgelist(graph_filepath)\n",
    "\n",
    "# Load communities\n",
    "node_communities = load_communities(community_filepath)\n",
    "\n",
    "# Add community information to the graph\n",
    "nx.set_node_attributes(G, {node: {'communities': comms} for node, comms in node_communities.items()}, 'communities')\n",
    "\n",
    "# Print some basic information\n",
    "print(f\"Number of nodes: {G.number_of_nodes()}\")\n",
    "print(f\"Number of edges: {G.number_of_edges()}\")\n",
    "print(f\"Number of nodes with community info: {len(node_communities)}\")"
   ]
  },
  {
   "cell_type": "code",
   "execution_count": null,
   "metadata": {},
   "outputs": [],
   "source": []
  },
  {
   "cell_type": "code",
   "execution_count": null,
   "metadata": {},
   "outputs": [],
   "source": []
  },
  {
   "cell_type": "code",
   "execution_count": null,
   "metadata": {},
   "outputs": [],
   "source": []
  },
  {
   "cell_type": "code",
   "execution_count": null,
   "metadata": {},
   "outputs": [],
   "source": []
  },
  {
   "cell_type": "code",
   "execution_count": 13,
   "metadata": {},
   "outputs": [
    {
     "name": "stdout",
     "output_type": "stream",
     "text": [
      "Número de nós no subgrafo inicial: 20072\n",
      "Número de arestas no subgrafo inicial: 118185\n",
      "Métricas do subgrafo inicial:\n",
      "  - Average Clustering Coefficient: 0.20893442431351494\n",
      "  - Degree Assortativity Coefficient: 0.02613864362885644\n",
      "  - Average Degree: 11.776106018333998\n",
      "  - Density: 0.0005867224362679487\n",
      "  - Diameter: Subgrafo não conectado\n",
      "Número de nós após PageRank Sampling: 32318\n",
      "Número de nós após Snowball Sampling: 40138\n",
      "Número de nós após BFS Sampling: 49953\n",
      "Número de nós após Random Walk Sampling: 50986\n",
      "Número de nós no subgrafo final: 50986\n",
      "Número de arestas no subgrafo final: 594352\n",
      "Métricas do subgrafo final:\n",
      "  - Average Clustering Coefficient: 0.18932706318631218\n",
      "  - Degree Assortativity Coefficient: -0.0539164435755376\n",
      "  - Average Degree: 23.314321578472523\n",
      "  - Density: 0.0004572780539074732\n",
      "  - Diameter: Subgrafo não conectado\n",
      "Variáveis importantes foram salvas com sucesso usando pickle.\n"
     ]
    }
   ],
   "source": [
    "import networkx as nx\n",
    "from collections import defaultdict\n",
    "import random\n",
    "import pickle\n",
    "\n",
    "def load_graph_from_edgelist(filepath):\n",
    "    G = nx.Graph()\n",
    "    \n",
    "    with open(filepath, 'r') as file:\n",
    "        for line in file:\n",
    "            if line.startswith('#'):\n",
    "                continue\n",
    "            \n",
    "            try:\n",
    "                parts = list(map(int, line.strip().split()))\n",
    "                \n",
    "                if len(parts) > 1:\n",
    "                    for to_node in parts[1:]:\n",
    "                        G.add_edge(parts[0], to_node)\n",
    "            except ValueError:\n",
    "                continue\n",
    "    \n",
    "    return G\n",
    "\n",
    "def load_communities(filepath):\n",
    "    communities = defaultdict(list)\n",
    "    \n",
    "    with open(filepath, 'r') as file:\n",
    "        for line in file:\n",
    "            if line.startswith('#'):\n",
    "                continue\n",
    "            \n",
    "            try:\n",
    "                parts = list(map(int, line.strip().split()))\n",
    "                \n",
    "                if len(parts) > 1:\n",
    "                    community_id = parts[0]\n",
    "                    nodes = parts[1:]\n",
    "                    \n",
    "                    for node in nodes:\n",
    "                        communities[community_id].append(node)\n",
    "            except ValueError:\n",
    "                continue\n",
    "    \n",
    "    return communities\n",
    "\n",
    "graph_filepath = 'com-youtube.ungraph.txt'\n",
    "community_filepath = 'com-youtube.all.cmty.txt'\n",
    "\n",
    "G = load_graph_from_edgelist(graph_filepath)\n",
    "communities = load_communities(community_filepath)\n",
    "\n",
    "# Ordenar as comunidades pelo tamanho\n",
    "sorted_communities = sorted(communities.items(), key=lambda x: len(x[1]))\n",
    "\n",
    "# Definir limites para escolher comunidades\n",
    "MIN_NODES = 10\n",
    "MAX_NODES = 20000\n",
    "\n",
    "selected_nodes = set()\n",
    "for community_id, nodes in sorted_communities:\n",
    "    if MIN_NODES <= len(nodes) <= MAX_NODES:\n",
    "        selected_nodes.update(nodes)\n",
    "    if len(selected_nodes) >= MAX_NODES:\n",
    "        break\n",
    "\n",
    "subgraph = G.subgraph(selected_nodes).copy()\n",
    "\n",
    "print(f\"Número de nós no subgrafo inicial: {subgraph.number_of_nodes()}\")\n",
    "print(f\"Número de arestas no subgrafo inicial: {subgraph.number_of_edges()}\")\n",
    "\n",
    "if subgraph.number_of_nodes() > 0 and subgraph.number_of_edges() > 0:\n",
    "    nx.write_edgelist(subgraph, 'subgraph.edgelist')\n",
    "else:\n",
    "    print(\"Nenhum subgrafo válido foi gerado. Verifique os parâmetros ou os dados.\")\n",
    "\n",
    "# Calcular métricas do subgrafo\n",
    "subgraph_acc = nx.average_clustering(subgraph)\n",
    "subgraph_degree_assortativity = nx.degree_assortativity_coefficient(subgraph)\n",
    "subgraph_average_degree = sum(dict(subgraph.degree()).values()) / subgraph.number_of_nodes()\n",
    "subgraph_density = nx.density(subgraph)\n",
    "subgraph_diameter = nx.diameter(subgraph) if nx.is_connected(subgraph) else 'Subgrafo não conectado'\n",
    "\n",
    "# Imprimir as métricas\n",
    "print(\"Métricas do subgrafo inicial:\")\n",
    "print(f\"  - Average Clustering Coefficient: {subgraph_acc}\")\n",
    "print(f\"  - Degree Assortativity Coefficient: {subgraph_degree_assortativity}\")\n",
    "print(f\"  - Average Degree: {subgraph_average_degree}\")\n",
    "print(f\"  - Density: {subgraph_density}\")\n",
    "print(f\"  - Diameter: {subgraph_diameter}\")\n",
    "\n",
    "subgraph_nodes = set(selected_nodes)  # Inicialmente contém os nós das comunidades selecionadas\n",
    "\n",
    "# 2. Aplicar PageRank-based Sampling para selecionar nós importantes\n",
    "def pagerank_sampling(graph, num_nodes=40000):\n",
    "    pagerank_scores = nx.pagerank(graph)\n",
    "    sorted_nodes = sorted(pagerank_scores, key=pagerank_scores.get, reverse=True)\n",
    "    return set(sorted_nodes[:num_nodes])\n",
    "\n",
    "pagerank_nodes = pagerank_sampling(G, num_nodes=15000)\n",
    "subgraph_nodes.update(pagerank_nodes)\n",
    "print(f\"Número de nós após PageRank Sampling: {len(subgraph_nodes)}\")\n",
    "\n",
    "# 3. Aplicar Snowball Sampling para expandir conexões entre comunidades\n",
    "def snowball_sampling(graph, start_node, depth=2, max_nodes=30000):\n",
    "    sampled_nodes = set([start_node])\n",
    "    frontier = [start_node]\n",
    "    \n",
    "    while frontier and len(sampled_nodes) < max_nodes:\n",
    "        new_frontier = []\n",
    "        for node in frontier:\n",
    "            neighbors = list(graph.neighbors(node))\n",
    "            new_frontier.extend(neighbors)\n",
    "            sampled_nodes.update(neighbors)\n",
    "            if len(sampled_nodes) >= max_nodes:\n",
    "                break\n",
    "        frontier = new_frontier\n",
    "    \n",
    "    return sampled_nodes\n",
    "\n",
    "# Selecionar nós na borda do subgrafo para iniciar Snowball Sampling\n",
    "boundary_nodes = [node for node in subgraph_nodes if len(set(G.neighbors(node)) - subgraph_nodes) > 0]\n",
    "selected_boundary_nodes = random.sample(boundary_nodes, min(10, len(boundary_nodes)))\n",
    "snowball_nodes = set()\n",
    "for node in selected_boundary_nodes:\n",
    "    snowball_nodes.update(snowball_sampling(G, node, depth=2, max_nodes=100))\n",
    "\n",
    "# Adicionar nós do Snowball Sampling ao subgrafo\n",
    "subgraph_nodes.update(snowball_nodes)\n",
    "print(f\"Número de nós após Snowball Sampling: {len(subgraph_nodes)}\")\n",
    "\n",
    "# 4. Aplicar BFS para garantir que a componente seja conectada\n",
    "def bfs_sampling(graph, start_node, max_nodes=50000):\n",
    "    visited = set([start_node])\n",
    "    queue = [start_node]\n",
    "    \n",
    "    while queue and len(visited) < max_nodes:\n",
    "        node = queue.pop(0)\n",
    "        neighbors = list(graph.neighbors(node))\n",
    "        for neighbor in neighbors:\n",
    "            if neighbor not in visited:\n",
    "                visited.add(neighbor)\n",
    "                queue.append(neighbor)\n",
    "                if len(visited) >= max_nodes:\n",
    "                    break\n",
    "    \n",
    "    return visited\n",
    "\n",
    "bfs_start_node = random.choice(list(subgraph_nodes))\n",
    "bfs_nodes = bfs_sampling(G, bfs_start_node, max_nodes=15000)\n",
    "subgraph_nodes.update(bfs_nodes)\n",
    "print(f\"Número de nós após BFS Sampling: {len(subgraph_nodes)}\")\n",
    "\n",
    "# 5. Aplicar Random Walk Sampling para garantir diversidade\n",
    "def random_walk_sampling(graph, start_node, steps=200):\n",
    "    sampled_nodes = set()\n",
    "    current_node = start_node\n",
    "    \n",
    "    for _ in range(steps):\n",
    "        neighbors = list(graph.neighbors(current_node))\n",
    "        if neighbors:\n",
    "            next_node = random.choice(neighbors)\n",
    "            sampled_nodes.add(next_node)\n",
    "            current_node = next_node\n",
    "        else:\n",
    "            break\n",
    "    \n",
    "    return sampled_nodes\n",
    "\n",
    "initial_nodes = random.sample(list(subgraph_nodes), min(5, len(subgraph_nodes)))\n",
    "random_walk_nodes = set()\n",
    "for node in initial_nodes:\n",
    "    random_walk_nodes.update(random_walk_sampling(G, node, steps=500))\n",
    "\n",
    "subgraph_nodes.update(random_walk_nodes)\n",
    "print(f\"Número de nós após Random Walk Sampling: {len(subgraph_nodes)}\")\n",
    "\n",
    "# Criar um subgrafo a partir dos nós coletados\n",
    "final_subgraph = G.subgraph(subgraph_nodes).copy()\n",
    "\n",
    "print(f\"Número de nós no subgrafo final: {final_subgraph.number_of_nodes()}\")\n",
    "print(f\"Número de arestas no subgrafo final: {final_subgraph.number_of_edges()}\")\n",
    "\n",
    "# Calcular métricas do subgrafo final\n",
    "final_subgraph_acc = nx.average_clustering(final_subgraph)\n",
    "final_subgraph_degree_assortativity = nx.degree_assortativity_coefficient(final_subgraph)\n",
    "final_subgraph_average_degree = sum(dict(final_subgraph.degree()).values()) / final_subgraph.number_of_nodes()\n",
    "final_subgraph_density = nx.density(final_subgraph)\n",
    "final_subgraph_diameter = nx.diameter(final_subgraph) if nx.is_connected(final_subgraph) else 'Subgrafo não conectado'\n",
    "\n",
    "print(\"Métricas do subgrafo final:\")\n",
    "print(f\"  - Average Clustering Coefficient: {final_subgraph_acc}\")\n",
    "print(f\"  - Degree Assortativity Coefficient: {final_subgraph_degree_assortativity}\")\n",
    "print(f\"  - Average Degree: {final_subgraph_average_degree}\")\n",
    "print(f\"  - Density: {final_subgraph_density}\")\n",
    "print(f\"  - Diameter: {final_subgraph_diameter}\")\n",
    "\n",
    "# Salvar variáveis importantes usando pickle\n",
    "with open('saved_data.pkl', 'wb') as f:\n",
    "    pickle.dump({\n",
    "        'G': G,\n",
    "        'subgraph': subgraph,\n",
    "        'final_subgraph': final_subgraph,\n",
    "        'communities': communities,\n",
    "        'sorted_communities': sorted_communities,\n",
    "        'selected_nodes': selected_nodes,\n",
    "        'subgraph_nodes': subgraph_nodes\n",
    "    }, f)\n",
    "\n",
    "print(\"Variáveis importantes foram salvas com sucesso usando pickle.\")"
   ]
  },
  {
   "cell_type": "markdown",
   "metadata": {},
   "source": [
    "#### Subsetting"
   ]
  },
  {
   "cell_type": "markdown",
   "metadata": {},
   "source": [
    "Top 1000 largest communities with at least 3 nodes"
   ]
  },
  {
   "cell_type": "code",
   "execution_count": 14,
   "metadata": {},
   "outputs": [
    {
     "name": "stdout",
     "output_type": "stream",
     "text": [
      "Número de nós no subgrafo carregado: 50986\n",
      "Número de arestas no subgrafo carregado: 594352\n"
     ]
    }
   ],
   "source": [
    "######## Outro bloco de código para carregar as variáveis e o subgrafo ########\n",
    "import pickle\n",
    "import networkx as nx\n",
    "\n",
    "# Carregar o subgrafo, as comunidades e a lista de nós salvos\n",
    "with open('saved_data.pkl', 'rb') as f:\n",
    "    saved_data = pickle.load(f)\n",
    "    \n",
    "final_subgraph = saved_data['final_subgraph']\n",
    "communities = saved_data['communities']\n",
    "subgraph_nodes = saved_data['subgraph_nodes']\n",
    "G = saved_data['G']\n",
    "\n",
    "\n",
    "# Verificar o subgrafo carregado\n",
    "print(f\"Número de nós no subgrafo carregado: {final_subgraph.number_of_nodes()}\")\n",
    "print(f\"Número de arestas no subgrafo carregado: {final_subgraph.number_of_edges()}\")\n"
   ]
  },
  {
   "cell_type": "markdown",
   "metadata": {},
   "source": [
    "#### Visualize subset"
   ]
  },
  {
   "cell_type": "code",
   "execution_count": 43,
   "metadata": {},
   "outputs": [],
   "source": [
    "# Map each node to its community\n",
    "node_to_community = {}\n",
    "for comm_id, nodes in communities.items():\n",
    "    for node in nodes:\n",
    "        node_to_community[node] = comm_id\n",
    "\n",
    "# Example: Adding community attribute\n",
    "for node in final_subgraph.nodes():\n",
    "    final_subgraph.nodes[node]['community'] = node_to_community.get(node, -1)\n",
    "\n",
    "# Export to GML\n",
    "nx.write_gml(final_subgraph, \"graph_with_communities.gml\")\n"
   ]
  },
  {
   "cell_type": "markdown",
   "metadata": {},
   "source": [
    "#### Compute community metrics for subset"
   ]
  },
  {
   "cell_type": "code",
   "execution_count": 44,
   "metadata": {},
   "outputs": [],
   "source": [
    "import networkx as nx\n",
    "\n",
    "def compute_community_metrics(G, communities):\n",
    "    metrics = []\n",
    "    \n",
    "    for i, (comm_number, community_nodes) in enumerate(communities.items()):\n",
    "        # a comunidade tem de ter um 'formato válido'\n",
    "        if not isinstance(community_nodes, list):\n",
    "            print(f\"Error: Community {comm_number} is not a valid list of nodes.\")\n",
    "            continue  \n",
    "        \n",
    "        # criar subgrafo da comunidade\n",
    "        subgraph = G.subgraph(community_nodes)\n",
    "        \n",
    "        # ver se a comunidade é composta por nós isolados\n",
    "        num_edges = subgraph.number_of_edges()\n",
    "        \n",
    "        if num_edges == 0:\n",
    "            clustering = 0  \n",
    "            density = 0     \n",
    "            internal_edge_fraction = 0  \n",
    "        else:\n",
    "            # métricas\n",
    "            clustering = nx.average_clustering(subgraph)\n",
    "            density = nx.density(subgraph)\n",
    "            internal_edges = num_edges\n",
    "            total_edges = sum([G.degree(node) for node in community_nodes if node in G])\n",
    "            internal_edge_fraction = internal_edges / total_edges if total_edges > 0 else 0\n",
    "        \n",
    "        metrics.append({\n",
    "            \"community_id\": comm_number,\n",
    "            \"num_nodes\": len(community_nodes),\n",
    "            \"clustering\": clustering,\n",
    "            \"density\": density,\n",
    "            \"internal_edge_fraction\": internal_edge_fraction\n",
    "        })\n",
    "\n",
    "    return metrics\n",
    "\n",
    "community_metrics = compute_community_metrics(final_subgraph, communities)\n"
   ]
  },
  {
   "cell_type": "markdown",
   "metadata": {},
   "source": [
    "#### Measure influence of each node"
   ]
  },
  {
   "cell_type": "code",
   "execution_count": 30,
   "metadata": {},
   "outputs": [],
   "source": [
    "# TODO: Muito lento para ~210k nodes"
   ]
  },
  {
   "cell_type": "markdown",
   "metadata": {},
   "source": [
    "#### Compare results to full network"
   ]
  },
  {
   "cell_type": "code",
   "execution_count": 45,
   "metadata": {},
   "outputs": [
    {
     "ename": "KeyboardInterrupt",
     "evalue": "",
     "output_type": "error",
     "traceback": [
      "\u001b[1;31m---------------------------------------------------------------------------\u001b[0m",
      "\u001b[1;31mKeyboardInterrupt\u001b[0m                         Traceback (most recent call last)",
      "Cell \u001b[1;32mIn[45], line 6\u001b[0m\n\u001b[0;32m      3\u001b[0m subset_community_density \u001b[38;5;241m=\u001b[39m \u001b[38;5;28msum\u001b[39m([m[\u001b[38;5;124m\"\u001b[39m\u001b[38;5;124mdensity\u001b[39m\u001b[38;5;124m\"\u001b[39m] \u001b[38;5;28;01mfor\u001b[39;00m m \u001b[38;5;129;01min\u001b[39;00m community_metrics]) \u001b[38;5;241m/\u001b[39m \u001b[38;5;28mlen\u001b[39m(community_metrics)\n\u001b[0;32m      5\u001b[0m \u001b[38;5;66;03m# Compute full network metrics\u001b[39;00m\n\u001b[1;32m----> 6\u001b[0m full_clustering \u001b[38;5;241m=\u001b[39m \u001b[43mnx\u001b[49m\u001b[38;5;241;43m.\u001b[39;49m\u001b[43maverage_clustering\u001b[49m\u001b[43m(\u001b[49m\u001b[43mG\u001b[49m\u001b[43m)\u001b[49m\n\u001b[0;32m      7\u001b[0m full_density \u001b[38;5;241m=\u001b[39m nx\u001b[38;5;241m.\u001b[39mdensity(G)\n\u001b[0;32m      9\u001b[0m \u001b[38;5;28mprint\u001b[39m(\u001b[38;5;124m\"\u001b[39m\u001b[38;5;124mComparison of Metrics:\u001b[39m\u001b[38;5;124m\"\u001b[39m)\n",
      "File \u001b[1;32m<class 'networkx.utils.decorators.argmap'> compilation 9:3\u001b[0m, in \u001b[0;36margmap_average_clustering_6\u001b[1;34m(G, nodes, weight, count_zeros, backend, **backend_kwargs)\u001b[0m\n\u001b[0;32m      1\u001b[0m \u001b[38;5;28;01mimport\u001b[39;00m \u001b[38;5;21;01mbz2\u001b[39;00m\n\u001b[0;32m      2\u001b[0m \u001b[38;5;28;01mimport\u001b[39;00m \u001b[38;5;21;01mcollections\u001b[39;00m\n\u001b[1;32m----> 3\u001b[0m \u001b[38;5;28;01mimport\u001b[39;00m \u001b[38;5;21;01mgzip\u001b[39;00m\n\u001b[0;32m      4\u001b[0m \u001b[38;5;28;01mimport\u001b[39;00m \u001b[38;5;21;01minspect\u001b[39;00m\n\u001b[0;32m      5\u001b[0m \u001b[38;5;28;01mimport\u001b[39;00m \u001b[38;5;21;01mitertools\u001b[39;00m\n",
      "File \u001b[1;32mc:\\Users\\danie\\AppData\\Local\\anaconda3\\Lib\\site-packages\\networkx\\utils\\backends.py:633\u001b[0m, in \u001b[0;36m_dispatchable.__call__\u001b[1;34m(self, backend, *args, **kwargs)\u001b[0m\n\u001b[0;32m    628\u001b[0m \u001b[38;5;250m\u001b[39m\u001b[38;5;124;03m\"\"\"Returns the result of the original function, or the backend function if\u001b[39;00m\n\u001b[0;32m    629\u001b[0m \u001b[38;5;124;03mthe backend is specified and that backend implements `func`.\"\"\"\u001b[39;00m\n\u001b[0;32m    631\u001b[0m \u001b[38;5;28;01mif\u001b[39;00m \u001b[38;5;129;01mnot\u001b[39;00m backends:\n\u001b[0;32m    632\u001b[0m     \u001b[38;5;66;03m# Fast path if no backends are installed\u001b[39;00m\n\u001b[1;32m--> 633\u001b[0m     \u001b[38;5;28;01mreturn\u001b[39;00m \u001b[38;5;28;43mself\u001b[39;49m\u001b[38;5;241;43m.\u001b[39;49m\u001b[43morig_func\u001b[49m\u001b[43m(\u001b[49m\u001b[38;5;241;43m*\u001b[39;49m\u001b[43margs\u001b[49m\u001b[43m,\u001b[49m\u001b[43m \u001b[49m\u001b[38;5;241;43m*\u001b[39;49m\u001b[38;5;241;43m*\u001b[39;49m\u001b[43mkwargs\u001b[49m\u001b[43m)\u001b[49m\n\u001b[0;32m    635\u001b[0m \u001b[38;5;66;03m# Use `backend_name` in this function instead of `backend`\u001b[39;00m\n\u001b[0;32m    636\u001b[0m backend_name \u001b[38;5;241m=\u001b[39m backend\n",
      "File \u001b[1;32mc:\\Users\\danie\\AppData\\Local\\anaconda3\\Lib\\site-packages\\networkx\\algorithms\\cluster.py:304\u001b[0m, in \u001b[0;36maverage_clustering\u001b[1;34m(G, nodes, weight, count_zeros)\u001b[0m\n\u001b[0;32m    250\u001b[0m \u001b[38;5;129m@nx\u001b[39m\u001b[38;5;241m.\u001b[39m_dispatchable(edge_attrs\u001b[38;5;241m=\u001b[39m\u001b[38;5;124m\"\u001b[39m\u001b[38;5;124mweight\u001b[39m\u001b[38;5;124m\"\u001b[39m)\n\u001b[0;32m    251\u001b[0m \u001b[38;5;28;01mdef\u001b[39;00m \u001b[38;5;21maverage_clustering\u001b[39m(G, nodes\u001b[38;5;241m=\u001b[39m\u001b[38;5;28;01mNone\u001b[39;00m, weight\u001b[38;5;241m=\u001b[39m\u001b[38;5;28;01mNone\u001b[39;00m, count_zeros\u001b[38;5;241m=\u001b[39m\u001b[38;5;28;01mTrue\u001b[39;00m):\n\u001b[0;32m    252\u001b[0m \u001b[38;5;250m    \u001b[39m\u001b[38;5;124mr\u001b[39m\u001b[38;5;124;03m\"\"\"Compute the average clustering coefficient for the graph G.\u001b[39;00m\n\u001b[0;32m    253\u001b[0m \n\u001b[0;32m    254\u001b[0m \u001b[38;5;124;03m    The clustering coefficient for the graph is the average,\u001b[39;00m\n\u001b[1;32m   (...)\u001b[0m\n\u001b[0;32m    302\u001b[0m \u001b[38;5;124;03m       https://arxiv.org/abs/0802.2512\u001b[39;00m\n\u001b[0;32m    303\u001b[0m \u001b[38;5;124;03m    \"\"\"\u001b[39;00m\n\u001b[1;32m--> 304\u001b[0m     c \u001b[38;5;241m=\u001b[39m \u001b[43mclustering\u001b[49m\u001b[43m(\u001b[49m\u001b[43mG\u001b[49m\u001b[43m,\u001b[49m\u001b[43m \u001b[49m\u001b[43mnodes\u001b[49m\u001b[43m,\u001b[49m\u001b[43m \u001b[49m\u001b[43mweight\u001b[49m\u001b[38;5;241;43m=\u001b[39;49m\u001b[43mweight\u001b[49m\u001b[43m)\u001b[49m\u001b[38;5;241m.\u001b[39mvalues()\n\u001b[0;32m    305\u001b[0m     \u001b[38;5;28;01mif\u001b[39;00m \u001b[38;5;129;01mnot\u001b[39;00m count_zeros:\n\u001b[0;32m    306\u001b[0m         c \u001b[38;5;241m=\u001b[39m [v \u001b[38;5;28;01mfor\u001b[39;00m v \u001b[38;5;129;01min\u001b[39;00m c \u001b[38;5;28;01mif\u001b[39;00m \u001b[38;5;28mabs\u001b[39m(v) \u001b[38;5;241m>\u001b[39m \u001b[38;5;241m0\u001b[39m]\n",
      "File \u001b[1;32m<class 'networkx.utils.decorators.argmap'> compilation 13:3\u001b[0m, in \u001b[0;36margmap_clustering_10\u001b[1;34m(G, nodes, weight, backend, **backend_kwargs)\u001b[0m\n\u001b[0;32m      1\u001b[0m \u001b[38;5;28;01mimport\u001b[39;00m \u001b[38;5;21;01mbz2\u001b[39;00m\n\u001b[0;32m      2\u001b[0m \u001b[38;5;28;01mimport\u001b[39;00m \u001b[38;5;21;01mcollections\u001b[39;00m\n\u001b[1;32m----> 3\u001b[0m \u001b[38;5;28;01mimport\u001b[39;00m \u001b[38;5;21;01mgzip\u001b[39;00m\n\u001b[0;32m      4\u001b[0m \u001b[38;5;28;01mimport\u001b[39;00m \u001b[38;5;21;01minspect\u001b[39;00m\n\u001b[0;32m      5\u001b[0m \u001b[38;5;28;01mimport\u001b[39;00m \u001b[38;5;21;01mitertools\u001b[39;00m\n",
      "File \u001b[1;32mc:\\Users\\danie\\AppData\\Local\\anaconda3\\Lib\\site-packages\\networkx\\utils\\backends.py:633\u001b[0m, in \u001b[0;36m_dispatchable.__call__\u001b[1;34m(self, backend, *args, **kwargs)\u001b[0m\n\u001b[0;32m    628\u001b[0m \u001b[38;5;250m\u001b[39m\u001b[38;5;124;03m\"\"\"Returns the result of the original function, or the backend function if\u001b[39;00m\n\u001b[0;32m    629\u001b[0m \u001b[38;5;124;03mthe backend is specified and that backend implements `func`.\"\"\"\u001b[39;00m\n\u001b[0;32m    631\u001b[0m \u001b[38;5;28;01mif\u001b[39;00m \u001b[38;5;129;01mnot\u001b[39;00m backends:\n\u001b[0;32m    632\u001b[0m     \u001b[38;5;66;03m# Fast path if no backends are installed\u001b[39;00m\n\u001b[1;32m--> 633\u001b[0m     \u001b[38;5;28;01mreturn\u001b[39;00m \u001b[38;5;28;43mself\u001b[39;49m\u001b[38;5;241;43m.\u001b[39;49m\u001b[43morig_func\u001b[49m\u001b[43m(\u001b[49m\u001b[38;5;241;43m*\u001b[39;49m\u001b[43margs\u001b[49m\u001b[43m,\u001b[49m\u001b[43m \u001b[49m\u001b[38;5;241;43m*\u001b[39;49m\u001b[38;5;241;43m*\u001b[39;49m\u001b[43mkwargs\u001b[49m\u001b[43m)\u001b[49m\n\u001b[0;32m    635\u001b[0m \u001b[38;5;66;03m# Use `backend_name` in this function instead of `backend`\u001b[39;00m\n\u001b[0;32m    636\u001b[0m backend_name \u001b[38;5;241m=\u001b[39m backend\n",
      "File \u001b[1;32mc:\\Users\\danie\\AppData\\Local\\anaconda3\\Lib\\site-packages\\networkx\\algorithms\\cluster.py:418\u001b[0m, in \u001b[0;36mclustering\u001b[1;34m(G, nodes, weight)\u001b[0m\n\u001b[0;32m    416\u001b[0m     \u001b[38;5;28;01melse\u001b[39;00m:\n\u001b[0;32m    417\u001b[0m         td_iter \u001b[38;5;241m=\u001b[39m _triangles_and_degree_iter(G, nodes)\n\u001b[1;32m--> 418\u001b[0m         clusterc \u001b[38;5;241m=\u001b[39m \u001b[43m{\u001b[49m\u001b[43mv\u001b[49m\u001b[43m:\u001b[49m\u001b[43m \u001b[49m\u001b[38;5;241;43m0\u001b[39;49m\u001b[43m \u001b[49m\u001b[38;5;28;43;01mif\u001b[39;49;00m\u001b[43m \u001b[49m\u001b[43mt\u001b[49m\u001b[43m \u001b[49m\u001b[38;5;241;43m==\u001b[39;49m\u001b[43m \u001b[49m\u001b[38;5;241;43m0\u001b[39;49m\u001b[43m \u001b[49m\u001b[38;5;28;43;01melse\u001b[39;49;00m\u001b[43m \u001b[49m\u001b[43mt\u001b[49m\u001b[43m \u001b[49m\u001b[38;5;241;43m/\u001b[39;49m\u001b[43m \u001b[49m\u001b[43m(\u001b[49m\u001b[43md\u001b[49m\u001b[43m \u001b[49m\u001b[38;5;241;43m*\u001b[39;49m\u001b[43m \u001b[49m\u001b[43m(\u001b[49m\u001b[43md\u001b[49m\u001b[43m \u001b[49m\u001b[38;5;241;43m-\u001b[39;49m\u001b[43m \u001b[49m\u001b[38;5;241;43m1\u001b[39;49m\u001b[43m)\u001b[49m\u001b[43m)\u001b[49m\u001b[43m \u001b[49m\u001b[38;5;28;43;01mfor\u001b[39;49;00m\u001b[43m \u001b[49m\u001b[43mv\u001b[49m\u001b[43m,\u001b[49m\u001b[43m \u001b[49m\u001b[43md\u001b[49m\u001b[43m,\u001b[49m\u001b[43m \u001b[49m\u001b[43mt\u001b[49m\u001b[43m,\u001b[49m\u001b[43m \u001b[49m\u001b[43m_\u001b[49m\u001b[43m \u001b[49m\u001b[38;5;129;43;01min\u001b[39;49;00m\u001b[43m \u001b[49m\u001b[43mtd_iter\u001b[49m\u001b[43m}\u001b[49m\n\u001b[0;32m    419\u001b[0m \u001b[38;5;28;01mif\u001b[39;00m nodes \u001b[38;5;129;01min\u001b[39;00m G:\n\u001b[0;32m    420\u001b[0m     \u001b[38;5;66;03m# Return the value of the sole entry in the dictionary.\u001b[39;00m\n\u001b[0;32m    421\u001b[0m     \u001b[38;5;28;01mreturn\u001b[39;00m clusterc[nodes]\n",
      "File \u001b[1;32mc:\\Users\\danie\\AppData\\Local\\anaconda3\\Lib\\site-packages\\networkx\\algorithms\\cluster.py:106\u001b[0m, in \u001b[0;36m_triangles_and_degree_iter\u001b[1;34m(G, nodes)\u001b[0m\n\u001b[0;32m    104\u001b[0m \u001b[38;5;28;01mfor\u001b[39;00m v, v_nbrs \u001b[38;5;129;01min\u001b[39;00m nodes_nbrs:\n\u001b[0;32m    105\u001b[0m     vs \u001b[38;5;241m=\u001b[39m \u001b[38;5;28mset\u001b[39m(v_nbrs) \u001b[38;5;241m-\u001b[39m {v}\n\u001b[1;32m--> 106\u001b[0m     gen_degree \u001b[38;5;241m=\u001b[39m \u001b[43mCounter\u001b[49m\u001b[43m(\u001b[49m\u001b[38;5;28;43mlen\u001b[39;49m\u001b[43m(\u001b[49m\u001b[43mvs\u001b[49m\u001b[43m \u001b[49m\u001b[38;5;241;43m&\u001b[39;49m\u001b[43m \u001b[49m\u001b[43m(\u001b[49m\u001b[38;5;28;43mset\u001b[39;49m\u001b[43m(\u001b[49m\u001b[43mG\u001b[49m\u001b[43m[\u001b[49m\u001b[43mw\u001b[49m\u001b[43m]\u001b[49m\u001b[43m)\u001b[49m\u001b[43m \u001b[49m\u001b[38;5;241;43m-\u001b[39;49m\u001b[43m \u001b[49m\u001b[43m{\u001b[49m\u001b[43mw\u001b[49m\u001b[43m}\u001b[49m\u001b[43m)\u001b[49m\u001b[43m)\u001b[49m\u001b[43m \u001b[49m\u001b[38;5;28;43;01mfor\u001b[39;49;00m\u001b[43m \u001b[49m\u001b[43mw\u001b[49m\u001b[43m \u001b[49m\u001b[38;5;129;43;01min\u001b[39;49;00m\u001b[43m \u001b[49m\u001b[43mvs\u001b[49m\u001b[43m)\u001b[49m\n\u001b[0;32m    107\u001b[0m     ntriangles \u001b[38;5;241m=\u001b[39m \u001b[38;5;28msum\u001b[39m(k \u001b[38;5;241m*\u001b[39m val \u001b[38;5;28;01mfor\u001b[39;00m k, val \u001b[38;5;129;01min\u001b[39;00m gen_degree\u001b[38;5;241m.\u001b[39mitems())\n\u001b[0;32m    108\u001b[0m     \u001b[38;5;28;01myield\u001b[39;00m (v, \u001b[38;5;28mlen\u001b[39m(vs), ntriangles, gen_degree)\n",
      "File \u001b[1;32mc:\\Users\\danie\\AppData\\Local\\anaconda3\\Lib\\collections\\__init__.py:607\u001b[0m, in \u001b[0;36mCounter.__init__\u001b[1;34m(self, iterable, **kwds)\u001b[0m\n\u001b[0;32m    596\u001b[0m \u001b[38;5;250m\u001b[39m\u001b[38;5;124;03m'''Create a new, empty Counter object.  And if given, count elements\u001b[39;00m\n\u001b[0;32m    597\u001b[0m \u001b[38;5;124;03mfrom an input iterable.  Or, initialize the count from another mapping\u001b[39;00m\n\u001b[0;32m    598\u001b[0m \u001b[38;5;124;03mof elements to their counts.\u001b[39;00m\n\u001b[1;32m   (...)\u001b[0m\n\u001b[0;32m    604\u001b[0m \n\u001b[0;32m    605\u001b[0m \u001b[38;5;124;03m'''\u001b[39;00m\n\u001b[0;32m    606\u001b[0m \u001b[38;5;28msuper\u001b[39m()\u001b[38;5;241m.\u001b[39m\u001b[38;5;21m__init__\u001b[39m()\n\u001b[1;32m--> 607\u001b[0m \u001b[38;5;28;43mself\u001b[39;49m\u001b[38;5;241;43m.\u001b[39;49m\u001b[43mupdate\u001b[49m\u001b[43m(\u001b[49m\u001b[43miterable\u001b[49m\u001b[43m,\u001b[49m\u001b[43m \u001b[49m\u001b[38;5;241;43m*\u001b[39;49m\u001b[38;5;241;43m*\u001b[39;49m\u001b[43mkwds\u001b[49m\u001b[43m)\u001b[49m\n",
      "File \u001b[1;32mc:\\Users\\danie\\AppData\\Local\\anaconda3\\Lib\\collections\\__init__.py:699\u001b[0m, in \u001b[0;36mCounter.update\u001b[1;34m(self, iterable, **kwds)\u001b[0m\n\u001b[0;32m    697\u001b[0m             \u001b[38;5;28msuper\u001b[39m()\u001b[38;5;241m.\u001b[39mupdate(iterable)\n\u001b[0;32m    698\u001b[0m     \u001b[38;5;28;01melse\u001b[39;00m:\n\u001b[1;32m--> 699\u001b[0m         \u001b[43m_count_elements\u001b[49m\u001b[43m(\u001b[49m\u001b[38;5;28;43mself\u001b[39;49m\u001b[43m,\u001b[49m\u001b[43m \u001b[49m\u001b[43miterable\u001b[49m\u001b[43m)\u001b[49m\n\u001b[0;32m    700\u001b[0m \u001b[38;5;28;01mif\u001b[39;00m kwds:\n\u001b[0;32m    701\u001b[0m     \u001b[38;5;28mself\u001b[39m\u001b[38;5;241m.\u001b[39mupdate(kwds)\n",
      "File \u001b[1;32mc:\\Users\\danie\\AppData\\Local\\anaconda3\\Lib\\site-packages\\networkx\\algorithms\\cluster.py:106\u001b[0m, in \u001b[0;36m<genexpr>\u001b[1;34m(.0)\u001b[0m\n\u001b[0;32m    104\u001b[0m \u001b[38;5;28;01mfor\u001b[39;00m v, v_nbrs \u001b[38;5;129;01min\u001b[39;00m nodes_nbrs:\n\u001b[0;32m    105\u001b[0m     vs \u001b[38;5;241m=\u001b[39m \u001b[38;5;28mset\u001b[39m(v_nbrs) \u001b[38;5;241m-\u001b[39m {v}\n\u001b[1;32m--> 106\u001b[0m     gen_degree \u001b[38;5;241m=\u001b[39m Counter(\u001b[38;5;28mlen\u001b[39m(vs \u001b[38;5;241m&\u001b[39m (\u001b[38;5;28mset\u001b[39m(G[w]) \u001b[38;5;241m-\u001b[39m {w})) \u001b[38;5;28;01mfor\u001b[39;00m w \u001b[38;5;129;01min\u001b[39;00m vs)\n\u001b[0;32m    107\u001b[0m     ntriangles \u001b[38;5;241m=\u001b[39m \u001b[38;5;28msum\u001b[39m(k \u001b[38;5;241m*\u001b[39m val \u001b[38;5;28;01mfor\u001b[39;00m k, val \u001b[38;5;129;01min\u001b[39;00m gen_degree\u001b[38;5;241m.\u001b[39mitems())\n\u001b[0;32m    108\u001b[0m     \u001b[38;5;28;01myield\u001b[39;00m (v, \u001b[38;5;28mlen\u001b[39m(vs), ntriangles, gen_degree)\n",
      "\u001b[1;31mKeyboardInterrupt\u001b[0m: "
     ]
    }
   ],
   "source": [
    "# Compute average metrics for the subset\n",
    "subset_community_clustering = sum([m[\"clustering\"] for m in community_metrics]) / len(community_metrics)\n",
    "subset_community_density = sum([m[\"density\"] for m in community_metrics]) / len(community_metrics)\n",
    "\n",
    "# Compute full network metrics\n",
    "full_clustering = nx.average_clustering(G)\n",
    "full_density = nx.density(G)\n",
    "\n",
    "print(\"Comparison of Metrics:\")\n",
    "print(f\"Full Network Clustering Coefficient: {full_clustering}\")\n",
    "print(f\"Subset Community Clustering Coefficient: {subset_community_clustering}\")\n",
    "print(f\"Full Network Density: {full_density}\")\n",
    "print(f\"Subset Community Density: {subset_community_density}\")"
   ]
  },
  {
   "cell_type": "markdown",
   "metadata": {},
   "source": [
    "#### Visualize results\n",
    "comunidades maiores -> menos coesas e menos densas <br>\n",
    "comunidades menores -> mais coesas e mais densas <br>\n",
    "isto sugere que comunidades maiores estão mais 'espalhadas' e têm conexões mais escassas provavelmente devido a serem mais diversas e ao facto de haver diferentes niveis de engagement dentro da comunidade"
   ]
  },
  {
   "cell_type": "code",
   "execution_count": null,
   "metadata": {},
   "outputs": [
    {
     "data": {
      "image/png": "[encoded data removed]",
      "text/plain": [
       "<Figure size 1000x500 with 1 Axes>"
      ]
     },
     "metadata": {},
     "output_type": "display_data"
    }
   ],
   "source": [
    "df = pd.DataFrame(community_metrics)\n",
    "\n",
    "\n",
    "plt.figure(figsize=(10, 5))\n",
    "plt.scatter(df[\"num_nodes\"], df[\"clustering\"], label=\"Clustering Coefficient\", alpha=0.7)\n",
    "plt.scatter(df[\"num_nodes\"], df[\"density\"], label=\"Density\", alpha=0.7, color=\"red\")\n",
    "plt.xlabel(\"Community Size\")\n",
    "plt.ylabel(\"Metric Value\")\n",
    "plt.title(\"Clustering and Density of Communities\")\n",
    "plt.legend()\n",
    "plt.show()\n"
   ]
  }
 ],
 "metadata": {
  "kernelspec": {
   "display_name": "base",
   "language": "python",
   "name": "python3"
  },
  "language_info": {
   "codemirror_mode": {
    "name": "ipython",
    "version": 3
   },
   "file_extension": ".py",
   "mimetype": "text/x-python",
   "name": "python",
   "nbconvert_exporter": "python",
   "pygments_lexer": "ipython3",
   "version": "3.12.4"
  }
 },
 "nbformat": 4,
 "nbformat_minor": 2
}
